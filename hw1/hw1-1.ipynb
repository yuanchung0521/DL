{
 "cells": [
  {
   "cell_type": "code",
   "execution_count": 17,
   "metadata": {},
   "outputs": [],
   "source": [
    "import numpy as np\n",
    "import pandas as pd\n",
    "from sklearn.model_selection import train_test_split\n",
    "from sklearn.preprocessing import OneHotEncoder\n",
    "from sklearn.preprocessing import StandardScaler\n",
    "import matplotlib.pyplot as plt\n",
    "from scipy.stats import spearmanr"
   ]
  },
  {
   "cell_type": "code",
   "execution_count": 18,
   "metadata": {},
   "outputs": [],
   "source": [
    "# Load the dataset using Pandas\n",
    "data = pd.read_csv('energy_efficiency_data.csv')\n",
    "\n",
    "\n",
    "# Shuffle the dataset\n",
    "data = data.sample(frac=1, random_state=42)\n",
    "\n",
    "# Split data into training and testing sets\n",
    "X = data.drop(['Heating Load', 'Cooling Load'], axis=1)\n",
    "Y = data['Heating Load']\n",
    "\n",
    "# Calculate Pearson correlation coefficients between features and target\n",
    "correlations = []\n",
    "for feature in X.columns:\n",
    "    correlation, _ = spearmanr(X[feature], Y)\n",
    "    correlations.append((feature, correlation))\n",
    "\n",
    "# Sort features by absolute correlation\n",
    "sorted_correlations = sorted(correlations, key=lambda x: x[1], reverse=True)\n",
    "\n",
    "# Choose the top N features with highest correlation\n",
    "num_selected_features = 5  # You can adjust the number of selected features\n",
    "selected_features = [feature for feature, _ in sorted_correlations[:num_selected_features]]\n",
    "\n",
    "# Subset the data with selected features\n",
    "X_selected = X[selected_features]\n",
    "\n",
    "\n",
    "X_train, X_test, Y_train, Y_test = train_test_split(X_selected, Y, test_size=0.25, random_state=42)\n",
    "\n",
    "scaler = StandardScaler()\n",
    "X_train = scaler.fit_transform(X_train)\n",
    "X_test = scaler.transform(X_test)"
   ]
  },
  {
   "cell_type": "code",
   "execution_count": 321,
   "metadata": {},
   "outputs": [],
   "source": [
    "def sigmoid(x, der):\n",
    "    if der: \n",
    "        return np.exp(-x) / ((1 + np.exp(-x)) ** 2)\n",
    "    else:\n",
    "        return 1 / (1 + np.exp(-x))\n",
    "\n",
    "def relu(x, der):\n",
    "    if der: \n",
    "        return np.where(x > 0, 1, 0)\n",
    "    else:\n",
    "         return np.maximum(0, x)\n",
    "    \n",
    "def linear(x, der):\n",
    "    if der:\n",
    "        return 1\n",
    "    else:\n",
    "        return x\n",
    "\n",
    "def tanh(x, der):\n",
    "    if der:\n",
    "        return (1 - np.power(np.tanh(x), 2))\n",
    "    else:\n",
    "        return np.tanh(x)\n",
    "    \n",
    "def softmax(x, der):\n",
    "    \n",
    "    if len(x.shape) > 1:\n",
    "        axis = -2  # Choose the second-to-last axis for 2D input\n",
    "    else:\n",
    "        axis = -1  # Default to the last axis for 1D input\n",
    "\n",
    "    e_x = np.exp(x - np.max(x, axis=axis, keepdims=True))\n",
    "    softmax_output = e_x / e_x.sum(axis=axis, keepdims=True)\n",
    "\n",
    "    if der:\n",
    "        return 1\n",
    "    else:\n",
    "        return softmax_output"
   ]
  },
  {
   "cell_type": "code",
   "execution_count": 322,
   "metadata": {},
   "outputs": [],
   "source": [
    "# Define the neural network architecture for regression\n",
    "nn_architecture = [\n",
    "    {'input_size': X_train.shape[1], 'output_size': 64, 'activation': relu},\n",
    "    {'input_size': 64, 'output_size': 32, 'activation': relu},\n",
    "    {'input_size': 32, 'output_size': 1, 'activation': linear}  # Linear activation for regression\n",
    "]"
   ]
  },
  {
   "cell_type": "code",
   "execution_count": 323,
   "metadata": {},
   "outputs": [],
   "source": [
    "def init_layers(nn_architecture):\n",
    "    parameters = {}\n",
    "    for i, layer in enumerate(nn_architecture):\n",
    "        layer_input_size = layer['input_size']\n",
    "        layer_output_size = layer['output_size']\n",
    "        parameters[f'W{i}'] = np.random.randn(layer_output_size, layer_input_size)\n",
    "        parameters[f'b{i}'] = np.zeros((layer_output_size, 1))\n",
    "    return parameters"
   ]
  },
  {
   "cell_type": "code",
   "execution_count": 324,
   "metadata": {},
   "outputs": [],
   "source": [
    "def forward_propagation(X, parameters, nn_architecture):\n",
    "    cache = {}\n",
    "    A = X\n",
    "    cache[f'X'] = X\n",
    "    for i, layer in enumerate(nn_architecture):\n",
    "        W = parameters[f'W{i}']\n",
    "        b = parameters[f'b{i}']\n",
    "        Z = np.dot(W, A) + b\n",
    "        A = nn_architecture[i]['activation'](Z, False)\n",
    "        cache[f'Z{i}'] = Z\n",
    "        cache[f'A{i}'] = A\n",
    "    return A, cache\n",
    "\n",
    "# Backward propagation\n",
    "def backward_propagation(Y_hat, Y, cache, parameters, nn_architecture, loss_function):\n",
    "    grads = {}\n",
    "    m = Y.shape[1]  # Number of training examples\n",
    "    \n",
    "    for i in reversed(range(len(nn_architecture))):\n",
    "        Z = cache[f'Z{i}']\n",
    "        act_z = nn_architecture[i]['activation'](Z, True)\n",
    "        if i == len(nn_architecture) - 1:  # Output layer\n",
    "            dC = loss_function(Y, Y_hat, True) * act_z\n",
    "        else:  # Hidden layer\n",
    "            dC_next = dC\n",
    "            W_next = parameters.get(f'W{i+1}')\n",
    "            dC = np.dot(W_next.T, dC_next) * act_z\n",
    "\n",
    "        A_prev = cache.get(f'A{i-1}') if i > 0 else cache.get(f'X')\n",
    "        grads[f'dW{i}'] = (1 / m) * np.dot(dC, A_prev.T)\n",
    "        grads[f'db{i}'] = (1 / m) * np.sum(dC, axis=1, keepdims=True)\n",
    "    return grads"
   ]
  },
  {
   "cell_type": "code",
   "execution_count": 325,
   "metadata": {},
   "outputs": [],
   "source": [
    "# Loss function (MSE for regression)\n",
    "def sum_of_square(Y, Y_hat, der):\n",
    "    if der:\n",
    "        return Y_hat-Y\n",
    "    else:\n",
    "        return np.mean((Y_hat - Y) ** 2)\n",
    "\n",
    "def cross_entropy(Y, Y_hat, der):\n",
    "    epsilon = 1e-15\n",
    "    m = Y_hat.shape\n",
    "    if m[0] == 1:\n",
    "        if der:\n",
    "            loss = Y_hat-Y\n",
    "        else:\n",
    "            loss = -np.mean(Y * np.log(Y_hat + epsilon) + (1 - Y) * np.log(1 - Y_hat + epsilon))\n",
    "    elif m[0] == 2:\n",
    "        if der:\n",
    "            Y_hat[Y, range(m[1])] -= 1\n",
    "            loss = Y_hat\n",
    "        else:\n",
    "            loss = -np.mean(np.log(Y_hat[Y, range(m[1])] + epsilon))\n",
    "    else:\n",
    "        print(\"The class num is wrong\")\n",
    "    return loss\n",
    "\n",
    "# Update weights and biases\n",
    "def update(parameters, grads, nn_architecture, learning_rate):\n",
    "    for i, layer in enumerate(nn_architecture):\n",
    "        parameters[f'W{i}'] -= learning_rate * grads[f'dW{i}']\n",
    "        parameters[f'b{i}'] -= learning_rate * grads[f'db{i}']\n",
    "    return parameters"
   ]
  },
  {
   "cell_type": "code",
   "execution_count": 337,
   "metadata": {},
   "outputs": [],
   "source": [
    "# Training process with loss tracking\n",
    "def train(X, Y, nn_architecture, loss_function, epochs, learning_rate):\n",
    "    parameters = init_layers(nn_architecture)\n",
    "    loss_history = []  # To store the loss for each epoch\n",
    "    \n",
    "    for i in range(epochs):\n",
    "        if (i == 20): cache20 = cache\n",
    "        Y_hat, cache = forward_propagation(X, parameters, nn_architecture)\n",
    "        loss = loss_function(Y, Y_hat, False)\n",
    "        loss_history.append(loss)\n",
    "        grads = backward_propagation(Y_hat, Y, cache, parameters, nn_architecture, loss_function)\n",
    "        parameters = update(parameters, grads, nn_architecture, learning_rate)\n",
    "    return parameters, loss_history, cache20\n"
   ]
  },
  {
   "cell_type": "code",
   "execution_count": 338,
   "metadata": {},
   "outputs": [],
   "source": [
    "# # Train the neural network and collect loss history\n",
    "# trained_parameters, loss_history = train(X_train.T, Y_train.values.reshape(1, -1), nn_architecture, sum_of_square, epochs=1000, learning_rate=0.001)\n"
   ]
  },
  {
   "cell_type": "code",
   "execution_count": 339,
   "metadata": {},
   "outputs": [],
   "source": [
    "# Y_train_pred, cache = forward_propagation(X_train.T, trained_parameters, nn_architecture)"
   ]
  },
  {
   "cell_type": "code",
   "execution_count": 340,
   "metadata": {},
   "outputs": [],
   "source": [
    "# # Predict on training and testing data\n",
    "# Y_train_pred, _ = forward_propagation(X_train.T, trained_parameters, nn_architecture)\n",
    "# Y_test_pred, _ = forward_propagation(X_test.T, trained_parameters, nn_architecture)\n",
    "\n",
    "# # Calculate RMS error for training and testing data\n",
    "# train_rms_error = np.sqrt(np.mean((Y_train_pred - Y_train.values.reshape(1, -1)) ** 2))\n",
    "# test_rms_error = np.sqrt(np.mean((Y_test_pred - Y_test.values.reshape(1, -1)) ** 2))\n",
    "\n",
    "# print(f\"Training RMS Error: {train_rms_error}\")\n",
    "# print(f\"Testing RMS Error: {test_rms_error}\")\n",
    "\n",
    "# # Plot the learning curve (loss over epochs)\n",
    "# plt.figure(figsize=(12, 4))\n",
    "# plt.subplot(1, 2, 1)\n",
    "# plt.plot(range(len(loss_history)), loss_history)\n",
    "# plt.title(\"Learning Curve\")\n",
    "# plt.xlabel(\"Epochs\")\n",
    "# plt.ylabel(\"Loss\")\n",
    "\n",
    "# # Create a list of case numbers\n",
    "# case_numbers_train = range(len(Y_train))\n",
    "# case_numbers_test = range(len(Y_train), len(Y_train) + len(Y_test))\n",
    "\n",
    "# # Create a line plot for training labels and predictions\n",
    "# plt.figure(figsize=(12, 4))\n",
    "# plt.subplot(1, 2, 1)\n",
    "# plt.plot(case_numbers_train, Y_train, label=\"Actual Labels\", color=\"blue\")\n",
    "# plt.plot(case_numbers_train, Y_train_pred[0], label=\"Predicted Labels\", color=\"red\")\n",
    "# plt.xlabel(\"Case Number\")\n",
    "# plt.ylabel(\"Heating Load\")\n",
    "# plt.title(\"Regression Result with Training Labels\")\n",
    "# plt.legend()\n",
    "\n",
    "# # Create a line plot for test labels and predictions\n",
    "# plt.subplot(1, 2, 2)\n",
    "# plt.plot(case_numbers_test, Y_test, label=\"Actual Labels\", color=\"green\")\n",
    "# plt.plot(case_numbers_test, Y_test_pred[0], label=\"Predicted Labels\", color=\"orange\")\n",
    "# plt.xlabel(\"Case Number\")\n",
    "# plt.ylabel(\"Heating Load\")\n",
    "# plt.title(\"Regression Result with Test Labels\")\n",
    "# plt.legend()\n",
    "\n",
    "# plt.show()\n"
   ]
  },
  {
   "cell_type": "code",
   "execution_count": 341,
   "metadata": {},
   "outputs": [],
   "source": [
    "# Load the Ionosphere dataset (replace 'ionosphere_data.csv' with the actual file name)\n",
    "data = pd.read_csv('ionosphere_data.csv')\n",
    "\n",
    "data.iloc[:, -1] = data.iloc[:, -1].apply(lambda x: 1 if x == 'g' else 0)\n",
    "# Split data into features and labels\n",
    "X = data.iloc[:, :-1].values  # All columns except the last one\n",
    "Y = data.iloc[:, -1].values.astype(np.int8)   # The last column\n",
    "\n",
    "# Split data into training and testing sets (80% for training, 20% for testing)\n",
    "X_train, X_test, Y_train, Y_test = train_test_split(X, Y, test_size=0.2, random_state=42)"
   ]
  },
  {
   "cell_type": "code",
   "execution_count": 342,
   "metadata": {},
   "outputs": [],
   "source": [
    "# Define the neural network architecture for regression\n",
    "nn_architecture = [\n",
    "    {'input_size': X_train.shape[1], 'output_size': 15, 'activation': tanh},\n",
    "    {'input_size': 15, 'output_size': 10, 'activation': tanh},\n",
    "    {'input_size': 10, 'output_size': 10, 'activation': tanh},\n",
    "    {'input_size': 10, 'output_size': 2, 'activation': softmax}  # Linear activation for regression\n",
    "]"
   ]
  },
  {
   "cell_type": "code",
   "execution_count": 343,
   "metadata": {},
   "outputs": [],
   "source": [
    "# Train the neural network and collect loss history\n",
    "trained_parameters, loss_history, cache20 = train(X_train.T, Y_train.reshape(1, -1), nn_architecture, cross_entropy, epochs=10000, learning_rate=0.01)"
   ]
  },
  {
   "cell_type": "code",
   "execution_count": 344,
   "metadata": {},
   "outputs": [
    {
     "name": "stdout",
     "output_type": "stream",
     "text": [
      "Train accuracy =  [0.99642857]\n",
      "Test accuracy =  [0.81428571]\n"
     ]
    },
    {
     "data": {
      "text/plain": [
       "-4.604841578227417"
      ]
     },
     "execution_count": 344,
     "metadata": {},
     "output_type": "execute_result"
    }
   ],
   "source": [
    "Y_train_pred, cache_train = forward_propagation(X_train.T, trained_parameters, nn_architecture)\n",
    "Y_test_pred, cache_test = forward_propagation(X_test.T, trained_parameters, nn_architecture)\n",
    "Y_train_pred = (Y_train_pred[1] > 0.5).astype(int)\n",
    "Y_test_pred = (Y_test_pred[1] > 0.5).astype(int)\n",
    "acc_train = np.sum(Y_train == Y_train_pred) / Y_train.shape\n",
    "acc_test = np.sum(Y_test == Y_test_pred)  / Y_test.shape\n",
    "print(\"Train accuracy = \", acc_train)\n",
    "print(\"Test accuracy = \", acc_test)\n",
    "cache_train['Z3'][0, 71]"
   ]
  },
  {
   "cell_type": "code",
   "execution_count": 346,
   "metadata": {},
   "outputs": [
    {
     "ename": "IndexError",
     "evalue": "shape mismatch: indexing arrays could not be broadcast together with shapes (2,) (100,) ",
     "output_type": "error",
     "traceback": [
      "\u001b[0;31m---------------------------------------------------------------------------\u001b[0m",
      "\u001b[0;31mIndexError\u001b[0m                                Traceback (most recent call last)",
      "\u001b[1;32m/home/happy/DL/hw1/hw1-1.ipynb Cell 16\u001b[0m line \u001b[0;36m1\n\u001b[1;32m     <a href='vscode-notebook-cell://ssh-remote%2Bhappy/home/happy/DL/hw1/hw1-1.ipynb#X22sdnNjb2RlLXJlbW90ZQ%3D%3D?line=9'>10</a>\u001b[0m plt\u001b[39m.\u001b[39mfigure(figsize\u001b[39m=\u001b[39m(\u001b[39m10\u001b[39m, \u001b[39m6\u001b[39m))\n\u001b[1;32m     <a href='vscode-notebook-cell://ssh-remote%2Bhappy/home/happy/DL/hw1/hw1-1.ipynb#X22sdnNjb2RlLXJlbW90ZQ%3D%3D?line=10'>11</a>\u001b[0m \u001b[39m# Plot points for class 'g' (good)\u001b[39;00m\n\u001b[0;32m---> <a href='vscode-notebook-cell://ssh-remote%2Bhappy/home/happy/DL/hw1/hw1-1.ipynb#X22sdnNjb2RlLXJlbW90ZQ%3D%3D?line=12'>13</a>\u001b[0m X_class1 \u001b[39m=\u001b[39m cache_train[\u001b[39m'\u001b[39;49m\u001b[39mZ2\u001b[39;49m\u001b[39m'\u001b[39;49m][[\u001b[39m0\u001b[39;49m, \u001b[39m2\u001b[39;49m], np\u001b[39m.\u001b[39;49mwhere(Y_train \u001b[39m==\u001b[39;49m \u001b[39m0\u001b[39;49m)[\u001b[39m0\u001b[39;49m]]\n\u001b[1;32m     <a href='vscode-notebook-cell://ssh-remote%2Bhappy/home/happy/DL/hw1/hw1-1.ipynb#X22sdnNjb2RlLXJlbW90ZQ%3D%3D?line=13'>14</a>\u001b[0m X_class2 \u001b[39m=\u001b[39m cache_train[\u001b[39m'\u001b[39m\u001b[39mZ2\u001b[39m\u001b[39m'\u001b[39m][[\u001b[39m0\u001b[39m, \u001b[39m2\u001b[39m], np\u001b[39m.\u001b[39mwhere(Y_train \u001b[39m==\u001b[39m \u001b[39m1\u001b[39m)[\u001b[39m0\u001b[39m]]\n\u001b[1;32m     <a href='vscode-notebook-cell://ssh-remote%2Bhappy/home/happy/DL/hw1/hw1-1.ipynb#X22sdnNjb2RlLXJlbW90ZQ%3D%3D?line=16'>17</a>\u001b[0m plt\u001b[39m.\u001b[39mscatter(X_class1[\u001b[39m0\u001b[39m], X_class1[\u001b[39m1\u001b[39m], c\u001b[39m=\u001b[39m\u001b[39m'\u001b[39m\u001b[39mb\u001b[39m\u001b[39m'\u001b[39m, label\u001b[39m=\u001b[39m\u001b[39m'\u001b[39m\u001b[39mClass 1\u001b[39m\u001b[39m'\u001b[39m)\n",
      "\u001b[0;31mIndexError\u001b[0m: shape mismatch: indexing arrays could not be broadcast together with shapes (2,) (100,) "
     ]
    },
    {
     "data": {
      "image/png": "[encoded data removed]",
      "text/plain": [
       "<Figure size 1200x400 with 1 Axes>"
      ]
     },
     "metadata": {},
     "output_type": "display_data"
    },
    {
     "data": {
      "text/plain": [
       "<Figure size 1000x600 with 0 Axes>"
      ]
     },
     "metadata": {},
     "output_type": "display_data"
    }
   ],
   "source": [
    "# Plot the learning curve (loss over epochs)\n",
    "plt.figure(figsize=(12, 4))\n",
    "plt.subplot(1, 2, 1)\n",
    "plt.plot(range(len(loss_history)), loss_history)\n",
    "plt.title(\"Learning Curve\")\n",
    "plt.xlabel(\"Epochs\")\n",
    "plt.ylabel(\"Loss\")\n",
    "\n",
    "# Create a scatter plot with class labels\n",
    "plt.figure(figsize=(10, 6))\n",
    "# Plot points for class 'g' (good)\n",
    "\n",
    "X_class1 = cache_train['Z2'][:, np.where(Y_train == 0)[0]]\n",
    "X_class2 = cache_train['Z2'][:, np.where(Y_train == 1)[0]]\n",
    "\n",
    "\n",
    "plt.scatter(X_class1[0], X_class1[1], c='b', label='Class 1')\n",
    "plt.scatter(X_class2[0], X_class2[1], c='r', label='Class 2')\n",
    "\n",
    "# Create a scatter plot with class labels\n",
    "plt.figure(figsize=(10, 6))\n",
    "# Plot points for class 'g' (good)\n",
    "\n",
    "X_class1 = cache20['Z3'][:, np.where(Y_train == 0)[0]]\n",
    "X_class2 = cache20['Z3'][:, np.where(Y_train == 1)[0]]\n",
    "\n",
    "\n",
    "plt.scatter(X_class1[0], X_class1[1], c='b', label='Class 1')\n",
    "plt.scatter(X_class2[0], X_class2[1], c='r', label='Class 2')\n",
    "# plt.scatter(cache_test['Z3'][Y_test == 0, :], cache_test.T[Y_test == 1, 1], c='green', label='Class \"g\" (Good)')\n",
    "\n",
    "# # Plot points for class 'b' (bad)\n",
    "# plt.scatter(cache_test[Y_test == 0, 0], cache_test[Y_test == 0, 1], c='red', label='Class \"b\" (Bad)')\n",
    "\n",
    "# # Set labels and legend\n",
    "# plt.xlabel('t-SNE Component 1')\n",
    "# plt.ylabel('t-SNE Component 2')\n",
    "# plt.title('t-SNE Visualization with Class Labels')\n",
    "# plt.legend(loc='best')\n",
    "\n",
    "# Show the plot\n",
    "plt.show()\n",
    "\n"
   ]
  },
  {
   "cell_type": "code",
   "execution_count": null,
   "metadata": {},
   "outputs": [],
   "source": [
    "\n"
   ]
  },
  {
   "cell_type": "code",
   "execution_count": null,
   "metadata": {},
   "outputs": [],
   "source": []
  },
  {
   "cell_type": "code",
   "execution_count": null,
   "metadata": {},
   "outputs": [],
   "source": []
  },
  {
   "cell_type": "code",
   "execution_count": null,
   "metadata": {},
   "outputs": [],
   "source": []
  },
  {
   "cell_type": "code",
   "execution_count": null,
   "metadata": {},
   "outputs": [],
   "source": []
  },
  {
   "cell_type": "code",
   "execution_count": null,
   "metadata": {},
   "outputs": [],
   "source": []
  },
  {
   "cell_type": "code",
   "execution_count": null,
   "metadata": {},
   "outputs": [],
   "source": []
  },
  {
   "cell_type": "code",
   "execution_count": null,
   "metadata": {},
   "outputs": [],
   "source": []
  },
  {
   "cell_type": "code",
   "execution_count": null,
   "metadata": {},
   "outputs": [],
   "source": []
  }
 ],
 "metadata": {
  "kernelspec": {
   "display_name": "dl",
   "language": "python",
   "name": "python3"
  },
  "language_info": {
   "codemirror_mode": {
    "name": "ipython",
    "version": 3
   },
   "file_extension": ".py",
   "mimetype": "text/x-python",
   "name": "python",
   "nbconvert_exporter": "python",
   "pygments_lexer": "ipython3",
   "version": "3.11.5"
  }
 },
 "nbformat": 4,
 "nbformat_minor": 2
}
